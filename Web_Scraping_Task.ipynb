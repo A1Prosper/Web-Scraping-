{
 "cells": [
  {
   "cell_type": "markdown",
   "metadata": {},
   "source": [
    "<h1 align=center> Web Scraping Project </h1>\n",
    "\n",
    "<h3 align=center> By Prosper Ayawah </h3>\n"
   ]
  },
  {
   "cell_type": "markdown",
   "metadata": {},
   "source": [
    "## Description\n",
    "\n",
    "This notebook contains a code that scraps info from a data science forum (https://www.datasciencecentral.com/forum) and compiles the data on a csv file.\n",
    "\n",
    "The following tasks are completed:\n",
    "\n",
    "- Use a for loop to extract key information from all 10 pages. In total, we need to extract key information of 100 topics (10 pages, each pages containing 10 topics);\n",
    "- Use a pandas data frame to store the following key information of the 100 topics:\n",
    "  1. TopicTitle\n",
    "  2. TopicURL\n",
    "  3. NumOfReplies\n",
    "  4. Author\n",
    "  5. AuthorURL\n",
    "- Save the data frame containing the key information to a csv file."
   ]
  },
  {
   "cell_type": "code",
   "execution_count": 1,
   "metadata": {},
   "outputs": [],
   "source": [
    "import pandas as pd\n",
    "import numpy as np\n",
    "import requests\n",
    "from bs4 import BeautifulSoup"
   ]
  },
  {
   "cell_type": "markdown",
   "metadata": {},
   "source": [
    "## 1. Prepare URLs of the first 10 pages\n",
    "\n",
    "The first page URL:\n",
    "https://www.datasciencecentral.com/forum?page=1"
   ]
  },
  {
   "cell_type": "code",
   "execution_count": 2,
   "metadata": {},
   "outputs": [],
   "source": [
    "url_temp = 'https://www.datasciencecentral.com/forum?page={page_num}'"
   ]
  },
  {
   "cell_type": "code",
   "execution_count": 3,
   "metadata": {},
   "outputs": [
    {
     "data": {
      "text/plain": [
       "'https://www.datasciencecentral.com/forum?page={page_num}'"
      ]
     },
     "execution_count": 3,
     "metadata": {},
     "output_type": "execute_result"
    }
   ],
   "source": [
    "url_temp"
   ]
  },
  {
   "cell_type": "code",
   "execution_count": 4,
   "metadata": {},
   "outputs": [
    {
     "data": {
      "text/plain": [
       "'https://www.datasciencecentral.com/forum?page=1'"
      ]
     },
     "execution_count": 4,
     "metadata": {},
     "output_type": "execute_result"
    }
   ],
   "source": [
    "url_temp.format(page_num = 1)"
   ]
  },
  {
   "cell_type": "code",
   "execution_count": 5,
   "metadata": {},
   "outputs": [
    {
     "data": {
      "text/plain": [
       "'https://www.datasciencecentral.com/forum?page=2'"
      ]
     },
     "execution_count": 5,
     "metadata": {},
     "output_type": "execute_result"
    }
   ],
   "source": [
    "url_temp.format(page_num = 2)"
   ]
  },
  {
   "cell_type": "markdown",
   "metadata": {},
   "source": [
    "Create a data frame with 10 elements, each element representing the URL of the pages."
   ]
  },
  {
   "cell_type": "code",
   "execution_count": 6,
   "metadata": {},
   "outputs": [
    {
     "data": {
      "text/html": [
       "<div>\n",
       "<style scoped>\n",
       "    .dataframe tbody tr th:only-of-type {\n",
       "        vertical-align: middle;\n",
       "    }\n",
       "\n",
       "    .dataframe tbody tr th {\n",
       "        vertical-align: top;\n",
       "    }\n",
       "\n",
       "    .dataframe thead th {\n",
       "        text-align: right;\n",
       "    }\n",
       "</style>\n",
       "<table border=\"1\" class=\"dataframe\">\n",
       "  <thead>\n",
       "    <tr style=\"text-align: right;\">\n",
       "      <th></th>\n",
       "      <th>Page</th>\n",
       "    </tr>\n",
       "  </thead>\n",
       "  <tbody>\n",
       "    <tr>\n",
       "      <th>0</th>\n",
       "      <td>1</td>\n",
       "    </tr>\n",
       "    <tr>\n",
       "      <th>1</th>\n",
       "      <td>2</td>\n",
       "    </tr>\n",
       "    <tr>\n",
       "      <th>2</th>\n",
       "      <td>3</td>\n",
       "    </tr>\n",
       "    <tr>\n",
       "      <th>3</th>\n",
       "      <td>4</td>\n",
       "    </tr>\n",
       "    <tr>\n",
       "      <th>4</th>\n",
       "      <td>5</td>\n",
       "    </tr>\n",
       "    <tr>\n",
       "      <th>5</th>\n",
       "      <td>6</td>\n",
       "    </tr>\n",
       "    <tr>\n",
       "      <th>6</th>\n",
       "      <td>7</td>\n",
       "    </tr>\n",
       "    <tr>\n",
       "      <th>7</th>\n",
       "      <td>8</td>\n",
       "    </tr>\n",
       "    <tr>\n",
       "      <th>8</th>\n",
       "      <td>9</td>\n",
       "    </tr>\n",
       "    <tr>\n",
       "      <th>9</th>\n",
       "      <td>10</td>\n",
       "    </tr>\n",
       "  </tbody>\n",
       "</table>\n",
       "</div>"
      ],
      "text/plain": [
       "   Page\n",
       "0     1\n",
       "1     2\n",
       "2     3\n",
       "3     4\n",
       "4     5\n",
       "5     6\n",
       "6     7\n",
       "7     8\n",
       "8     9\n",
       "9    10"
      ]
     },
     "execution_count": 6,
     "metadata": {},
     "output_type": "execute_result"
    }
   ],
   "source": [
    "df = pd.DataFrame({'Page': range(1,11)})\n",
    "df"
   ]
  },
  {
   "cell_type": "raw",
   "metadata": {},
   "source": [
    "Create a column 'PageURL' to store the URLs of the first 10 pages."
   ]
  },
  {
   "cell_type": "code",
   "execution_count": 7,
   "metadata": {},
   "outputs": [
    {
     "data": {
      "text/html": [
       "<div>\n",
       "<style scoped>\n",
       "    .dataframe tbody tr th:only-of-type {\n",
       "        vertical-align: middle;\n",
       "    }\n",
       "\n",
       "    .dataframe tbody tr th {\n",
       "        vertical-align: top;\n",
       "    }\n",
       "\n",
       "    .dataframe thead th {\n",
       "        text-align: right;\n",
       "    }\n",
       "</style>\n",
       "<table border=\"1\" class=\"dataframe\">\n",
       "  <thead>\n",
       "    <tr style=\"text-align: right;\">\n",
       "      <th></th>\n",
       "      <th>Page</th>\n",
       "      <th>PageURL</th>\n",
       "    </tr>\n",
       "  </thead>\n",
       "  <tbody>\n",
       "    <tr>\n",
       "      <th>0</th>\n",
       "      <td>1</td>\n",
       "      <td>https://www.datasciencecentral.com/forum?page=1</td>\n",
       "    </tr>\n",
       "    <tr>\n",
       "      <th>1</th>\n",
       "      <td>2</td>\n",
       "      <td>https://www.datasciencecentral.com/forum?page=2</td>\n",
       "    </tr>\n",
       "    <tr>\n",
       "      <th>2</th>\n",
       "      <td>3</td>\n",
       "      <td>https://www.datasciencecentral.com/forum?page=3</td>\n",
       "    </tr>\n",
       "    <tr>\n",
       "      <th>3</th>\n",
       "      <td>4</td>\n",
       "      <td>https://www.datasciencecentral.com/forum?page=4</td>\n",
       "    </tr>\n",
       "    <tr>\n",
       "      <th>4</th>\n",
       "      <td>5</td>\n",
       "      <td>https://www.datasciencecentral.com/forum?page=5</td>\n",
       "    </tr>\n",
       "    <tr>\n",
       "      <th>5</th>\n",
       "      <td>6</td>\n",
       "      <td>https://www.datasciencecentral.com/forum?page=6</td>\n",
       "    </tr>\n",
       "    <tr>\n",
       "      <th>6</th>\n",
       "      <td>7</td>\n",
       "      <td>https://www.datasciencecentral.com/forum?page=7</td>\n",
       "    </tr>\n",
       "    <tr>\n",
       "      <th>7</th>\n",
       "      <td>8</td>\n",
       "      <td>https://www.datasciencecentral.com/forum?page=8</td>\n",
       "    </tr>\n",
       "    <tr>\n",
       "      <th>8</th>\n",
       "      <td>9</td>\n",
       "      <td>https://www.datasciencecentral.com/forum?page=9</td>\n",
       "    </tr>\n",
       "    <tr>\n",
       "      <th>9</th>\n",
       "      <td>10</td>\n",
       "      <td>https://www.datasciencecentral.com/forum?page=10</td>\n",
       "    </tr>\n",
       "  </tbody>\n",
       "</table>\n",
       "</div>"
      ],
      "text/plain": [
       "   Page                                           PageURL\n",
       "0     1   https://www.datasciencecentral.com/forum?page=1\n",
       "1     2   https://www.datasciencecentral.com/forum?page=2\n",
       "2     3   https://www.datasciencecentral.com/forum?page=3\n",
       "3     4   https://www.datasciencecentral.com/forum?page=4\n",
       "4     5   https://www.datasciencecentral.com/forum?page=5\n",
       "5     6   https://www.datasciencecentral.com/forum?page=6\n",
       "6     7   https://www.datasciencecentral.com/forum?page=7\n",
       "7     8   https://www.datasciencecentral.com/forum?page=8\n",
       "8     9   https://www.datasciencecentral.com/forum?page=9\n",
       "9    10  https://www.datasciencecentral.com/forum?page=10"
      ]
     },
     "execution_count": 7,
     "metadata": {},
     "output_type": "execute_result"
    }
   ],
   "source": [
    "df['PageURL'] = [url_temp.format(page_num = i+1) for i in range(0,len(df))]\n",
    "df"
   ]
  },
  {
   "cell_type": "markdown",
   "metadata": {},
   "source": [
    "## 2. Download HTML Files"
   ]
  },
  {
   "cell_type": "markdown",
   "metadata": {},
   "source": [
    "Try the requests.get() method on the first page."
   ]
  },
  {
   "cell_type": "code",
   "execution_count": 8,
   "metadata": {},
   "outputs": [
    {
     "data": {
      "text/plain": [
       "<Response [200]>"
      ]
     },
     "execution_count": 8,
     "metadata": {},
     "output_type": "execute_result"
    }
   ],
   "source": [
    "x = requests.get('https://www.datasciencecentral.com/forum?page=1')\n",
    "x"
   ]
  },
  {
   "cell_type": "markdown",
   "metadata": {},
   "source": [
    "Use the requests.get() method to download HTML files for all 10 pages."
   ]
  },
  {
   "cell_type": "code",
   "execution_count": 9,
   "metadata": {},
   "outputs": [
    {
     "data": {
      "text/html": [
       "<div>\n",
       "<style scoped>\n",
       "    .dataframe tbody tr th:only-of-type {\n",
       "        vertical-align: middle;\n",
       "    }\n",
       "\n",
       "    .dataframe tbody tr th {\n",
       "        vertical-align: top;\n",
       "    }\n",
       "\n",
       "    .dataframe thead th {\n",
       "        text-align: right;\n",
       "    }\n",
       "</style>\n",
       "<table border=\"1\" class=\"dataframe\">\n",
       "  <thead>\n",
       "    <tr style=\"text-align: right;\">\n",
       "      <th></th>\n",
       "      <th>Page</th>\n",
       "      <th>PageURL</th>\n",
       "      <th>HTML</th>\n",
       "    </tr>\n",
       "  </thead>\n",
       "  <tbody>\n",
       "    <tr>\n",
       "      <th>0</th>\n",
       "      <td>1</td>\n",
       "      <td>https://www.datasciencecentral.com/forum?page=1</td>\n",
       "      <td>b'&lt;!DOCTYPE html&gt;\\n&lt;html lang=\"en\" xmlns:og=\"h...</td>\n",
       "    </tr>\n",
       "    <tr>\n",
       "      <th>1</th>\n",
       "      <td>2</td>\n",
       "      <td>https://www.datasciencecentral.com/forum?page=2</td>\n",
       "      <td>b'&lt;!DOCTYPE html&gt;\\n&lt;html lang=\"en\" xmlns:og=\"h...</td>\n",
       "    </tr>\n",
       "    <tr>\n",
       "      <th>2</th>\n",
       "      <td>3</td>\n",
       "      <td>https://www.datasciencecentral.com/forum?page=3</td>\n",
       "      <td>b'&lt;!DOCTYPE html&gt;\\n&lt;html lang=\"en\" xmlns:og=\"h...</td>\n",
       "    </tr>\n",
       "    <tr>\n",
       "      <th>3</th>\n",
       "      <td>4</td>\n",
       "      <td>https://www.datasciencecentral.com/forum?page=4</td>\n",
       "      <td>b'&lt;!DOCTYPE html&gt;\\n&lt;html lang=\"en\" xmlns:og=\"h...</td>\n",
       "    </tr>\n",
       "    <tr>\n",
       "      <th>4</th>\n",
       "      <td>5</td>\n",
       "      <td>https://www.datasciencecentral.com/forum?page=5</td>\n",
       "      <td>b'&lt;!DOCTYPE html&gt;\\n&lt;html lang=\"en\" xmlns:og=\"h...</td>\n",
       "    </tr>\n",
       "    <tr>\n",
       "      <th>5</th>\n",
       "      <td>6</td>\n",
       "      <td>https://www.datasciencecentral.com/forum?page=6</td>\n",
       "      <td>b'&lt;!DOCTYPE html&gt;\\n&lt;html lang=\"en\" xmlns:og=\"h...</td>\n",
       "    </tr>\n",
       "    <tr>\n",
       "      <th>6</th>\n",
       "      <td>7</td>\n",
       "      <td>https://www.datasciencecentral.com/forum?page=7</td>\n",
       "      <td>b'&lt;!DOCTYPE html&gt;\\n&lt;html lang=\"en\" xmlns:og=\"h...</td>\n",
       "    </tr>\n",
       "    <tr>\n",
       "      <th>7</th>\n",
       "      <td>8</td>\n",
       "      <td>https://www.datasciencecentral.com/forum?page=8</td>\n",
       "      <td>b'&lt;!DOCTYPE html&gt;\\n&lt;html lang=\"en\" xmlns:og=\"h...</td>\n",
       "    </tr>\n",
       "    <tr>\n",
       "      <th>8</th>\n",
       "      <td>9</td>\n",
       "      <td>https://www.datasciencecentral.com/forum?page=9</td>\n",
       "      <td>b'&lt;!DOCTYPE html&gt;\\n&lt;html lang=\"en\" xmlns:og=\"h...</td>\n",
       "    </tr>\n",
       "    <tr>\n",
       "      <th>9</th>\n",
       "      <td>10</td>\n",
       "      <td>https://www.datasciencecentral.com/forum?page=10</td>\n",
       "      <td>b'&lt;!DOCTYPE html&gt;\\n&lt;html lang=\"en\" xmlns:og=\"h...</td>\n",
       "    </tr>\n",
       "  </tbody>\n",
       "</table>\n",
       "</div>"
      ],
      "text/plain": [
       "   Page                                           PageURL  \\\n",
       "0     1   https://www.datasciencecentral.com/forum?page=1   \n",
       "1     2   https://www.datasciencecentral.com/forum?page=2   \n",
       "2     3   https://www.datasciencecentral.com/forum?page=3   \n",
       "3     4   https://www.datasciencecentral.com/forum?page=4   \n",
       "4     5   https://www.datasciencecentral.com/forum?page=5   \n",
       "5     6   https://www.datasciencecentral.com/forum?page=6   \n",
       "6     7   https://www.datasciencecentral.com/forum?page=7   \n",
       "7     8   https://www.datasciencecentral.com/forum?page=8   \n",
       "8     9   https://www.datasciencecentral.com/forum?page=9   \n",
       "9    10  https://www.datasciencecentral.com/forum?page=10   \n",
       "\n",
       "                                                HTML  \n",
       "0  b'<!DOCTYPE html>\\n<html lang=\"en\" xmlns:og=\"h...  \n",
       "1  b'<!DOCTYPE html>\\n<html lang=\"en\" xmlns:og=\"h...  \n",
       "2  b'<!DOCTYPE html>\\n<html lang=\"en\" xmlns:og=\"h...  \n",
       "3  b'<!DOCTYPE html>\\n<html lang=\"en\" xmlns:og=\"h...  \n",
       "4  b'<!DOCTYPE html>\\n<html lang=\"en\" xmlns:og=\"h...  \n",
       "5  b'<!DOCTYPE html>\\n<html lang=\"en\" xmlns:og=\"h...  \n",
       "6  b'<!DOCTYPE html>\\n<html lang=\"en\" xmlns:og=\"h...  \n",
       "7  b'<!DOCTYPE html>\\n<html lang=\"en\" xmlns:og=\"h...  \n",
       "8  b'<!DOCTYPE html>\\n<html lang=\"en\" xmlns:og=\"h...  \n",
       "9  b'<!DOCTYPE html>\\n<html lang=\"en\" xmlns:og=\"h...  "
      ]
     },
     "execution_count": 9,
     "metadata": {},
     "output_type": "execute_result"
    }
   ],
   "source": [
    "df['HTML'] = [requests.get(df.loc[i,'PageURL']).content for i in range(0,len(df))]\n",
    "df"
   ]
  },
  {
   "cell_type": "markdown",
   "metadata": {},
   "source": [
    "## 3. Explore the HTML Using Beautiful Soup Methods"
   ]
  },
  {
   "cell_type": "markdown",
   "metadata": {},
   "source": [
    "Here, let's explore the usage of Beautiful Soup methods for HTML parsing. Again, we try the methods on the page 1."
   ]
  },
  {
   "cell_type": "code",
   "execution_count": 10,
   "metadata": {},
   "outputs": [],
   "source": [
    "soup = BeautifulSoup(df.loc[0,'HTML'], 'html.parser')\n",
    "\n",
    "body = soup.find_all(lambda tag: tag.name=='div' and \n",
    "                     tag.get('class')==['xg_module_body'])[-1].find('tbody')"
   ]
  },
  {
   "cell_type": "code",
   "execution_count": 11,
   "metadata": {},
   "outputs": [
    {
     "name": "stdout",
     "output_type": "stream",
     "text": [
      "[<h3><a _snid=\"6448529:Topic:945561\" href=\"https://www.datasciencecentral.com/forum/topics/looking-for-a-ds-mentor\">Looking for a DS Mentor</a></h3>, <h3><a _snid=\"6448529:Topic:961649\" href=\"https://www.datasciencecentral.com/forum/topics/help-others-to-get-started-with-machine-learning\">Help others to get started with Machine Learning.</a></h3>, <h3><a _snid=\"6448529:Topic:1000088\" href=\"https://www.datasciencecentral.com/forum/topics/advices-for-use-case-in-data-science\">Advices for use case in Data Science</a></h3>, <h3><a _snid=\"6448529:Topic:803137\" href=\"https://www.datasciencecentral.com/forum/topics/one-day-will-humans-be-to-ai-what-dogs-are-to-humans-now\">One day, will humans be to AI what dogs are to humans now?</a></h3>, <h3><a _snid=\"6448529:Topic:990315\" href=\"https://www.datasciencecentral.com/forum/topics/example-of-traffic-camera-maintenance-dashboard\">Example of Traffic Camera Maintenance Dashboard</a></h3>, <h3><a _snid=\"6448529:Topic:999240\" href=\"https://www.datasciencecentral.com/forum/topics/data-science-techniques-to-eliminate-false-negatives\">Data Science Techniques to eliminate False Negatives</a></h3>, <h3><a _snid=\"6448529:Topic:999754\" href=\"https://www.datasciencecentral.com/forum/topics/global-data-science-platform-market-trends-and-opportunities\">Global Data Science Platform Market: Trends and Opportunities</a></h3>, <h3><a _snid=\"6448529:Topic:952915\" href=\"https://www.datasciencecentral.com/forum/topics/fft-on-time-series-data\">FFT on Time Series Data</a></h3>, <h3><a _snid=\"6448529:Topic:951345\" href=\"https://www.datasciencecentral.com/forum/topics/hardware-configuration\">Hardware Configuration</a></h3>, <h3><a _snid=\"6448529:Topic:984532\" href=\"https://www.datasciencecentral.com/forum/topics/graduate-programs-in-healthcare-data-science\">Graduate Programs in Healthcare Data Science</a></h3>]\n"
     ]
    }
   ],
   "source": [
    "topics = body.find_all('h3')\n",
    "print(topics)"
   ]
  },
  {
   "cell_type": "code",
   "execution_count": 12,
   "metadata": {},
   "outputs": [
    {
     "data": {
      "text/plain": [
       "['Looking for a DS Mentor',\n",
       " 'Help others to get started with Machine Learning.',\n",
       " 'Advices for use case in Data Science',\n",
       " 'One day, will humans be to AI what dogs are to humans now?',\n",
       " 'Example of Traffic Camera Maintenance Dashboard',\n",
       " 'Data Science Techniques to eliminate False Negatives',\n",
       " 'Global Data Science Platform Market: Trends and Opportunities',\n",
       " 'FFT on Time Series Data',\n",
       " 'Hardware Configuration',\n",
       " 'Graduate Programs in Healthcare Data Science']"
      ]
     },
     "execution_count": 12,
     "metadata": {},
     "output_type": "execute_result"
    }
   ],
   "source": [
    "# Get topic titles\n",
    "[ x.text for x in topics]"
   ]
  },
  {
   "cell_type": "code",
   "execution_count": 13,
   "metadata": {},
   "outputs": [
    {
     "data": {
      "text/plain": [
       "['https://www.datasciencecentral.com/forum/topics/looking-for-a-ds-mentor',\n",
       " 'https://www.datasciencecentral.com/forum/topics/help-others-to-get-started-with-machine-learning',\n",
       " 'https://www.datasciencecentral.com/forum/topics/advices-for-use-case-in-data-science',\n",
       " 'https://www.datasciencecentral.com/forum/topics/one-day-will-humans-be-to-ai-what-dogs-are-to-humans-now',\n",
       " 'https://www.datasciencecentral.com/forum/topics/example-of-traffic-camera-maintenance-dashboard',\n",
       " 'https://www.datasciencecentral.com/forum/topics/data-science-techniques-to-eliminate-false-negatives',\n",
       " 'https://www.datasciencecentral.com/forum/topics/global-data-science-platform-market-trends-and-opportunities',\n",
       " 'https://www.datasciencecentral.com/forum/topics/fft-on-time-series-data',\n",
       " 'https://www.datasciencecentral.com/forum/topics/hardware-configuration',\n",
       " 'https://www.datasciencecentral.com/forum/topics/graduate-programs-in-healthcare-data-science']"
      ]
     },
     "execution_count": 13,
     "metadata": {},
     "output_type": "execute_result"
    }
   ],
   "source": [
    "# Get topic URL\n",
    "[x.find('a')['href'] for x in topics]"
   ]
  },
  {
   "cell_type": "code",
   "execution_count": 14,
   "metadata": {},
   "outputs": [
    {
     "data": {
      "text/plain": [
       "[<td class=\"bignum xg_lightborder\">2</td>,\n",
       " <td class=\"bignum xg_lightborder\">2</td>,\n",
       " <td class=\"bignum xg_lightborder\">3</td>,\n",
       " <td class=\"bignum xg_lightborder\">4</td>,\n",
       " <td class=\"bignum xg_lightborder\">4</td>,\n",
       " <td class=\"bignum xg_lightborder\">6</td>,\n",
       " <td class=\"bignum xg_lightborder\">0</td>,\n",
       " <td class=\"bignum xg_lightborder\">2</td>,\n",
       " <td class=\"bignum xg_lightborder\">4</td>,\n",
       " <td class=\"bignum xg_lightborder\">2</td>]"
      ]
     },
     "execution_count": 14,
     "metadata": {},
     "output_type": "execute_result"
    }
   ],
   "source": [
    "replies = body.find_all('td',{'class':'bignum xg_lightborder'})\n",
    "replies"
   ]
  },
  {
   "cell_type": "code",
   "execution_count": 15,
   "metadata": {},
   "outputs": [
    {
     "data": {
      "text/plain": [
       "[2, 2, 3, 4, 4, 6, 0, 2, 4, 2]"
      ]
     },
     "execution_count": 15,
     "metadata": {},
     "output_type": "execute_result"
    }
   ],
   "source": [
    "# Get the number of replies\n",
    "[int(x.text) for x in replies]"
   ]
  },
  {
   "cell_type": "code",
   "execution_count": 16,
   "metadata": {
    "scrolled": true
   },
   "outputs": [
    {
     "data": {
      "text/plain": [
       "[<span class=\"xg_avatar\"><a class=\"fn url\" href=\"https://www.datasciencecentral.com/profile/RionaZefi\" title=\"Riona Zefi\"><span class=\"table_img dy-avatar dy-avatar-48\"><img alt=\"\" class=\"photo photo\" src=\"https://storage.ning.com/topology/rest/1.0/file/get/4445248530?profile=RESIZE_48X48&amp;width=48&amp;height=48&amp;crop=1%3A1\"/></span></a></span>,\n",
       " <span class=\"xg_avatar\"><a class=\"fn url\" href=\"https://www.datasciencecentral.com/profile/StuartKasemeier\" title=\"Stuart Kasemeier\"><span class=\"table_img dy-avatar dy-avatar-48\"><img alt=\"\" class=\"photo photo\" src=\"https://storage.ning.com/topology/rest/1.0/file/get/6712599095?profile=RESIZE_48X48&amp;width=48&amp;height=48&amp;crop=1%3A1\"/></span></a></span>,\n",
       " <span class=\"xg_avatar\"><a class=\"fn url\" href=\"https://www.datasciencecentral.com/profile/Alonso612\" title=\"Alonso\"><span class=\"table_img dy-avatar dy-avatar-48\"><img alt=\"\" class=\"photo photo\" src=\"https://storage.ning.com/topology/rest/1.0/file/get/2808682810?profile=original&amp;width=48&amp;height=48&amp;crop=1%3A1\"/></span></a></span>,\n",
       " <span class=\"xg_avatar\"><a class=\"fn url\" href=\"https://www.datasciencecentral.com/profile/VincentGranville\" title=\"Vincent Granville\"><span class=\"table_img dy-avatar dy-avatar-48\"><img alt=\"\" class=\"photo photo\" src=\"https://storage.ning.com/topology/rest/1.0/file/get/2800211702?profile=RESIZE_48X48&amp;width=48&amp;height=48&amp;crop=1%3A1\"/></span></a></span>,\n",
       " <span class=\"xg_avatar\"><a class=\"fn url\" href=\"https://www.datasciencecentral.com/profile/HalTrask\" title=\"Hal Trask\"><span class=\"table_img dy-avatar dy-avatar-48\"><img alt=\"\" class=\"photo photo\" src=\"https://storage.ning.com/topology/rest/1.0/file/get/2800444371?profile=RESIZE_48X48&amp;width=48&amp;height=48&amp;crop=1%3A1\"/></span></a></span>,\n",
       " <span class=\"xg_avatar\"><a class=\"fn url\" href=\"https://www.datasciencecentral.com/profile/ArunansuPattanayak\" title=\"Arunansu Pattanayak\"><span class=\"table_img dy-avatar dy-avatar-48\"><img alt=\"\" class=\"photo photo\" src=\"https://storage.ning.com/topology/rest/1.0/file/get/2808682810?profile=original&amp;width=48&amp;height=48&amp;crop=1%3A1\"/></span></a></span>,\n",
       " <span class=\"xg_avatar\"><a class=\"fn url\" href=\"https://www.datasciencecentral.com/profile/AakashChoudhary\" title=\"Aakash Choudhary\"><span class=\"table_img dy-avatar dy-avatar-48\"><img alt=\"\" class=\"photo photo\" src=\"https://storage.ning.com/topology/rest/1.0/file/get/2808682810?profile=original&amp;width=48&amp;height=48&amp;crop=1%3A1\"/></span></a></span>,\n",
       " <span class=\"xg_avatar\"><a class=\"fn url\" href=\"https://www.datasciencecentral.com/profile/PrashanthSouthekal\" title=\"Prashanth Southekal, PhD\"><span class=\"table_img dy-avatar dy-avatar-48\"><img alt=\"\" class=\"photo photo\" src=\"https://storage.ning.com/topology/rest/1.0/file/get/2801334200?profile=RESIZE_48X48&amp;width=48&amp;height=48&amp;crop=1%3A1\"/></span></a></span>,\n",
       " <span class=\"xg_avatar\"><a class=\"fn url\" href=\"https://www.datasciencecentral.com/profile/RobertGinns\" title=\"Robert Ginns\"><span class=\"table_img dy-avatar dy-avatar-48\"><img alt=\"\" class=\"photo photo\" src=\"https://storage.ning.com/topology/rest/1.0/file/get/2808682810?profile=original&amp;width=48&amp;height=48&amp;crop=1%3A1\"/></span></a></span>,\n",
       " <span class=\"xg_avatar\"><a class=\"fn url\" href=\"https://www.datasciencecentral.com/profile/DaniaKhan\" title=\"Dania Khan\"><span class=\"table_img dy-avatar dy-avatar-48\"><img alt=\"\" class=\"photo photo\" src=\"https://storage.ning.com/topology/rest/1.0/file/get/2808682810?profile=original&amp;width=48&amp;height=48&amp;crop=1%3A1\"/></span></a></span>]"
      ]
     },
     "execution_count": 16,
     "metadata": {},
     "output_type": "execute_result"
    }
   ],
   "source": [
    "users = body.find_all('span',{'class':'xg_avatar'})\n",
    "users"
   ]
  },
  {
   "cell_type": "code",
   "execution_count": 17,
   "metadata": {},
   "outputs": [
    {
     "data": {
      "text/plain": [
       "['Riona Zefi',\n",
       " 'Stuart Kasemeier',\n",
       " 'Alonso',\n",
       " 'Vincent Granville',\n",
       " 'Hal Trask',\n",
       " 'Arunansu Pattanayak',\n",
       " 'Aakash Choudhary',\n",
       " 'Prashanth Southekal, PhD',\n",
       " 'Robert Ginns',\n",
       " 'Dania Khan']"
      ]
     },
     "execution_count": 17,
     "metadata": {},
     "output_type": "execute_result"
    }
   ],
   "source": [
    "# Get user names\n",
    "[x.find('a',{'class':'fn url'})['title'] for x in users]"
   ]
  },
  {
   "cell_type": "code",
   "execution_count": 18,
   "metadata": {},
   "outputs": [
    {
     "data": {
      "text/plain": [
       "['https://www.datasciencecentral.com/profile/RionaZefi',\n",
       " 'https://www.datasciencecentral.com/profile/StuartKasemeier',\n",
       " 'https://www.datasciencecentral.com/profile/Alonso612',\n",
       " 'https://www.datasciencecentral.com/profile/VincentGranville',\n",
       " 'https://www.datasciencecentral.com/profile/HalTrask',\n",
       " 'https://www.datasciencecentral.com/profile/ArunansuPattanayak',\n",
       " 'https://www.datasciencecentral.com/profile/AakashChoudhary',\n",
       " 'https://www.datasciencecentral.com/profile/PrashanthSouthekal',\n",
       " 'https://www.datasciencecentral.com/profile/RobertGinns',\n",
       " 'https://www.datasciencecentral.com/profile/DaniaKhan']"
      ]
     },
     "execution_count": 18,
     "metadata": {},
     "output_type": "execute_result"
    }
   ],
   "source": [
    "# To get author URL\n",
    "[x.find('a',{'class':'fn url'})['href'] for x in users]"
   ]
  },
  {
   "cell_type": "markdown",
   "metadata": {},
   "source": [
    "## 4. Looping through the pages to collect information"
   ]
  },
  {
   "cell_type": "code",
   "execution_count": 19,
   "metadata": {},
   "outputs": [],
   "source": [
    "df1 = pd.DataFrame()\n",
    "for r in range(0, len(df)):\n",
    "    soup = BeautifulSoup(df.loc[r,'HTML'], 'html.parser') \n",
    "\n",
    "    body = soup.find_all(lambda tag: tag.name=='div' and \n",
    "                     tag.get('class')==['xg_module_body'])[-1].find('tbody')\n",
    "    topics = body.find_all('h3')\n",
    "\n",
    "    TopicTitle = [x.text for x in topics]    \n",
    "    \n",
    "    TopicURL = [x.find('a')['href'] for x in topics]\n",
    " \n",
    "    replies = body.find_all('td',{'class':'bignum xg_lightborder'})\n",
    "    \n",
    "    NumOfReplies = [int(x.text) for x in replies]\n",
    "    \n",
    "    users = body.find_all('span',{'class':'xg_avatar'})\n",
    "    \n",
    "    Author = [x.find('a',{'class':'fn url'})['title'] for x in users]\n",
    "    \n",
    "    AuthorURL = [x.find('a',{'class':'fn url'})['href'] for x in users]\n",
    "    \n",
    "    df1_ = pd.DataFrame({'TopicTitle': TopicTitle,\n",
    "                            'TopicURL': TopicURL,\n",
    "                            'NumOfReplies': NumOfReplies,\n",
    "                            'Author': Author,\n",
    "                            'AuthorURL': AuthorURL})\n",
    "    df1 = pd.concat([df1,df1_])\n"
   ]
  },
  {
   "cell_type": "code",
   "execution_count": 20,
   "metadata": {},
   "outputs": [
    {
     "data": {
      "text/html": [
       "<div>\n",
       "<style scoped>\n",
       "    .dataframe tbody tr th:only-of-type {\n",
       "        vertical-align: middle;\n",
       "    }\n",
       "\n",
       "    .dataframe tbody tr th {\n",
       "        vertical-align: top;\n",
       "    }\n",
       "\n",
       "    .dataframe thead th {\n",
       "        text-align: right;\n",
       "    }\n",
       "</style>\n",
       "<table border=\"1\" class=\"dataframe\">\n",
       "  <thead>\n",
       "    <tr style=\"text-align: right;\">\n",
       "      <th></th>\n",
       "      <th>TopicTitle</th>\n",
       "      <th>TopicURL</th>\n",
       "      <th>NumOfReplies</th>\n",
       "      <th>Author</th>\n",
       "      <th>AuthorURL</th>\n",
       "    </tr>\n",
       "  </thead>\n",
       "  <tbody>\n",
       "    <tr>\n",
       "      <th>0</th>\n",
       "      <td>Looking for a DS Mentor</td>\n",
       "      <td>https://www.datasciencecentral.com/forum/topic...</td>\n",
       "      <td>2</td>\n",
       "      <td>Riona Zefi</td>\n",
       "      <td>https://www.datasciencecentral.com/profile/Rio...</td>\n",
       "    </tr>\n",
       "    <tr>\n",
       "      <th>1</th>\n",
       "      <td>Help others to get started with Machine Learning.</td>\n",
       "      <td>https://www.datasciencecentral.com/forum/topic...</td>\n",
       "      <td>2</td>\n",
       "      <td>Stuart Kasemeier</td>\n",
       "      <td>https://www.datasciencecentral.com/profile/Stu...</td>\n",
       "    </tr>\n",
       "    <tr>\n",
       "      <th>2</th>\n",
       "      <td>Advices for use case in Data Science</td>\n",
       "      <td>https://www.datasciencecentral.com/forum/topic...</td>\n",
       "      <td>3</td>\n",
       "      <td>Alonso</td>\n",
       "      <td>https://www.datasciencecentral.com/profile/Alo...</td>\n",
       "    </tr>\n",
       "    <tr>\n",
       "      <th>3</th>\n",
       "      <td>One day, will humans be to AI what dogs are to...</td>\n",
       "      <td>https://www.datasciencecentral.com/forum/topic...</td>\n",
       "      <td>4</td>\n",
       "      <td>Vincent Granville</td>\n",
       "      <td>https://www.datasciencecentral.com/profile/Vin...</td>\n",
       "    </tr>\n",
       "    <tr>\n",
       "      <th>4</th>\n",
       "      <td>Example of Traffic Camera Maintenance Dashboard</td>\n",
       "      <td>https://www.datasciencecentral.com/forum/topic...</td>\n",
       "      <td>4</td>\n",
       "      <td>Hal Trask</td>\n",
       "      <td>https://www.datasciencecentral.com/profile/Hal...</td>\n",
       "    </tr>\n",
       "    <tr>\n",
       "      <th>...</th>\n",
       "      <td>...</td>\n",
       "      <td>...</td>\n",
       "      <td>...</td>\n",
       "      <td>...</td>\n",
       "      <td>...</td>\n",
       "    </tr>\n",
       "    <tr>\n",
       "      <th>5</th>\n",
       "      <td>Linking Analytics Intervention Significance to...</td>\n",
       "      <td>https://www.datasciencecentral.com/forum/topic...</td>\n",
       "      <td>1</td>\n",
       "      <td>JOHN MEE</td>\n",
       "      <td>https://www.datasciencecentral.com/profile/JOH...</td>\n",
       "    </tr>\n",
       "    <tr>\n",
       "      <th>6</th>\n",
       "      <td>Constrained optimization with objective functi...</td>\n",
       "      <td>https://www.datasciencecentral.com/forum/topic...</td>\n",
       "      <td>3</td>\n",
       "      <td>DJ</td>\n",
       "      <td>https://www.datasciencecentral.com/profile/DJ</td>\n",
       "    </tr>\n",
       "    <tr>\n",
       "      <th>7</th>\n",
       "      <td>Help needed to prove that Earth is not flat</td>\n",
       "      <td>https://www.datasciencecentral.com/forum/topic...</td>\n",
       "      <td>15</td>\n",
       "      <td>Vincent Granville</td>\n",
       "      <td>https://www.datasciencecentral.com/profile/Vin...</td>\n",
       "    </tr>\n",
       "    <tr>\n",
       "      <th>8</th>\n",
       "      <td>Resources ?</td>\n",
       "      <td>https://www.datasciencecentral.com/forum/topic...</td>\n",
       "      <td>1</td>\n",
       "      <td>gerard pierre L</td>\n",
       "      <td>https://www.datasciencecentral.com/profile/ger...</td>\n",
       "    </tr>\n",
       "    <tr>\n",
       "      <th>9</th>\n",
       "      <td>Analytics Platform</td>\n",
       "      <td>https://www.datasciencecentral.com/forum/topic...</td>\n",
       "      <td>2</td>\n",
       "      <td>ANDREI BYFIELD</td>\n",
       "      <td>https://www.datasciencecentral.com/profile/AND...</td>\n",
       "    </tr>\n",
       "  </tbody>\n",
       "</table>\n",
       "<p>100 rows × 5 columns</p>\n",
       "</div>"
      ],
      "text/plain": [
       "                                           TopicTitle  \\\n",
       "0                             Looking for a DS Mentor   \n",
       "1   Help others to get started with Machine Learning.   \n",
       "2                Advices for use case in Data Science   \n",
       "3   One day, will humans be to AI what dogs are to...   \n",
       "4     Example of Traffic Camera Maintenance Dashboard   \n",
       "..                                                ...   \n",
       "5   Linking Analytics Intervention Significance to...   \n",
       "6   Constrained optimization with objective functi...   \n",
       "7         Help needed to prove that Earth is not flat   \n",
       "8                                         Resources ?   \n",
       "9                                  Analytics Platform   \n",
       "\n",
       "                                             TopicURL  NumOfReplies  \\\n",
       "0   https://www.datasciencecentral.com/forum/topic...             2   \n",
       "1   https://www.datasciencecentral.com/forum/topic...             2   \n",
       "2   https://www.datasciencecentral.com/forum/topic...             3   \n",
       "3   https://www.datasciencecentral.com/forum/topic...             4   \n",
       "4   https://www.datasciencecentral.com/forum/topic...             4   \n",
       "..                                                ...           ...   \n",
       "5   https://www.datasciencecentral.com/forum/topic...             1   \n",
       "6   https://www.datasciencecentral.com/forum/topic...             3   \n",
       "7   https://www.datasciencecentral.com/forum/topic...            15   \n",
       "8   https://www.datasciencecentral.com/forum/topic...             1   \n",
       "9   https://www.datasciencecentral.com/forum/topic...             2   \n",
       "\n",
       "               Author                                          AuthorURL  \n",
       "0          Riona Zefi  https://www.datasciencecentral.com/profile/Rio...  \n",
       "1    Stuart Kasemeier  https://www.datasciencecentral.com/profile/Stu...  \n",
       "2              Alonso  https://www.datasciencecentral.com/profile/Alo...  \n",
       "3   Vincent Granville  https://www.datasciencecentral.com/profile/Vin...  \n",
       "4           Hal Trask  https://www.datasciencecentral.com/profile/Hal...  \n",
       "..                ...                                                ...  \n",
       "5            JOHN MEE  https://www.datasciencecentral.com/profile/JOH...  \n",
       "6                  DJ      https://www.datasciencecentral.com/profile/DJ  \n",
       "7   Vincent Granville  https://www.datasciencecentral.com/profile/Vin...  \n",
       "8     gerard pierre L  https://www.datasciencecentral.com/profile/ger...  \n",
       "9      ANDREI BYFIELD  https://www.datasciencecentral.com/profile/AND...  \n",
       "\n",
       "[100 rows x 5 columns]"
      ]
     },
     "execution_count": 20,
     "metadata": {},
     "output_type": "execute_result"
    }
   ],
   "source": [
    "df1"
   ]
  },
  {
   "cell_type": "code",
   "execution_count": 21,
   "metadata": {},
   "outputs": [],
   "source": [
    "# write collected info to a csv file\n",
    "df1.to_csv('Web_Scraping_file.csv')"
   ]
  }
 ],
 "metadata": {
  "kernelspec": {
   "display_name": "Python 3",
   "language": "python",
   "name": "python3"
  },
  "language_info": {
   "codemirror_mode": {
    "name": "ipython",
    "version": 3
   },
   "file_extension": ".py",
   "mimetype": "text/x-python",
   "name": "python",
   "nbconvert_exporter": "python",
   "pygments_lexer": "ipython3",
   "version": "3.7.9"
  }
 },
 "nbformat": 4,
 "nbformat_minor": 2
}
